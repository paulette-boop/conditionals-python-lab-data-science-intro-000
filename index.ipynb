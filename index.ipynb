{
 "cells": [
  {
   "cell_type": "markdown",
   "metadata": {},
   "source": [
    "# Conditionals in Python Lab"
   ]
  },
  {
   "cell_type": "markdown",
   "metadata": {},
   "source": [
    "### Introduction"
   ]
  },
  {
   "cell_type": "markdown",
   "metadata": {},
   "source": [
    "In our earlier lab on functional arguments, we found ways to work with Yelp to find and compare restaurants. In this lesson, we'll add more complex methods now that we know about conditionals."
   ]
  },
  {
   "cell_type": "markdown",
   "metadata": {},
   "source": [
    "### Again, our two restaurants in Albuquerque"
   ]
  },
  {
   "cell_type": "markdown",
   "metadata": {},
   "source": [
    "Let's take another look at our data for a single restaurant.  Once again, we have data regarding the Fork and Fig restaurant."
   ]
  },
  {
   "cell_type": "code",
   "execution_count": 1,
   "metadata": {},
   "outputs": [],
   "source": [
    "fork_fig = {'categories': [{'alias': 'burgers', 'title': 'Burgers'},\n",
    "  {'alias': 'sandwiches', 'title': 'Sandwiches'},\n",
    "  {'alias': 'salad', 'title': 'Salad'}],\n",
    " 'coordinates': {'latitude': 35.10871, 'longitude': -106.56739},\n",
    " 'display_phone': '(505) 881-5293',\n",
    " 'distance': 3571.724649307866,\n",
    " 'id': 'fork-and-fig-albuquerque',\n",
    " 'image_url': 'https://s3-media1.fl.yelpcdn.com/bphoto/_-DpXKfS3jv6DyA47g6Fxg/o.jpg',\n",
    " 'is_closed': False,\n",
    " 'location': {'address1': '6904 Menaul Blvd NE',\n",
    "  'address2': 'Ste C',\n",
    "  'address3': '',\n",
    "  'city': 'Albuquerque',\n",
    "  'country': 'US',\n",
    "  'display_address': ['6904 Menaul Blvd NE', 'Ste C', 'Albuquerque, NM 87110'],\n",
    "  'state': 'NM',\n",
    "  'zip_code': '87110'},\n",
    " 'name': 'Fork & Fig',\n",
    " 'phone': '+15058815293',\n",
    " 'price': '$$',\n",
    " 'rating': 4.5,\n",
    " 'review_count': 604,\n",
    " 'transactions': [],\n",
    " 'url': 'https://www.yelp.com/biz/fork-and-fig-albuquerque?adjust_creative=SYc8R4Gowqru5h4SBKZXsQ&utm_campaign=yelp_api_v3&utm_medium=api_v3_business_search&utm_source=SYc8R4Gowqru5h4SBKZXsQ'}"
   ]
  },
  {
   "cell_type": "markdown",
   "metadata": {},
   "source": [
    "And here is the data representing Frontier Restaurant."
   ]
  },
  {
   "cell_type": "code",
   "execution_count": 2,
   "metadata": {},
   "outputs": [],
   "source": [
    "frontier_restaurant = {'categories': [{'alias': 'mexican', 'title': 'Mexican'},\n",
    "  {'alias': 'diners', 'title': 'Diners'},\n",
    "  {'alias': 'tradamerican', 'title': 'American (Traditional)'}],\n",
    " 'coordinates': {'latitude': 35.0808088832532, 'longitude': -106.619402244687},\n",
    " 'display_phone': '(505) 266-0550',\n",
    " 'distance': 4033.6583235266075,\n",
    " 'id': 'frontier-restaurant-albuquerque-2',\n",
    " 'image_url': 'https://s3-media4.fl.yelpcdn.com/bphoto/M9L2z6-G0NobuDJ6YTh6VA/o.jpg',\n",
    " 'is_closed': True,\n",
    " 'location': {'address1': '2400 Central Ave SE',\n",
    "  'address2': '',\n",
    "  'address3': '',\n",
    "  'city': 'Albuquerque',\n",
    "  'country': 'US',\n",
    "  'display_address': ['2400 Central Ave SE', 'Albuquerque, NM 87106'],\n",
    "  'state': 'NM',\n",
    "  'zip_code': '87106'},\n",
    " 'name': 'Frontier Restaurant',\n",
    " 'phone': '+15052660550',\n",
    " 'price': '$',\n",
    " 'rating': 4.0,\n",
    " 'review_count': 1369,\n",
    " 'transactions': [],\n",
    " 'url': 'https://www.yelp.com/biz/frontier-restaurant-albuquerque-2?adjust_creative=SYc8R4Gowqru5h4SBKZXsQ&utm_campaign=yelp_api_v3&utm_medium=api_v3_business_search&utm_source=SYc8R4Gowqru5h4SBKZXsQ'}"
   ]
  },
  {
   "cell_type": "code",
   "execution_count": 145,
   "metadata": {},
   "outputs": [],
   "source": [
    "paulette_restaurant = {'categories': [{'alias': 'british', 'title': 'British'},\n",
    "  {'alias': 'diners', 'title': 'Diners'},\n",
    "  {'alias': 'tradamerican', 'title': 'British (Traditional)'}],\n",
    " 'coordinates': {'latitude': 35.0808088832532, 'longitude': -106.619402244687},\n",
    " 'display_phone': '(505) 266-0550',\n",
    " 'distance': 4033.6583235266075,\n",
    " 'id': 'paulette-restaurant-albuquerque-2',\n",
    " 'image_url': 'https://s3-media4.fl.yelpcdn.com/bphoto/M9L2z6-G0NobuDJ6YTh6VA/o.jpg',\n",
    " 'is_closed': False,\n",
    " 'location': {'address1': '2401 Central Ave SE',\n",
    "  'address2': '',\n",
    "  'address3': '',\n",
    "  'city': 'Albuquerque',\n",
    "  'country': 'US',\n",
    "  'display_address': ['2401 Central Ave SE', 'Albuquerque, NM 87106'],\n",
    "  'state': 'NM',\n",
    "  'zip_code': '87106'},\n",
    " 'name': 'Paulette and Chips Sir',\n",
    " 'phone': '+15052660551',\n",
    " 'price': '$$$',\n",
    " 'rating': 5.0,\n",
    " 'review_count': 2000,\n",
    " 'transactions': [],\n",
    " 'url': 'https://www.yelp.com/biz/frontier-restaurant-albuquerque-2?adjust_creative=SYc8R4Gowqru5h4SBKZXsQ&utm_campaign=yelp_api_v3&utm_medium=api_v3_business_search&utm_source=SYc8R4Gowqru5h4SBKZXsQ'}\n"
   ]
  },
  {
   "cell_type": "markdown",
   "metadata": {},
   "source": [
    "And once again, the attributes of the dictionaries above look like the following."
   ]
  },
  {
   "cell_type": "code",
   "execution_count": 5,
   "metadata": {
    "scrolled": true
   },
   "outputs": [
    {
     "data": {
      "text/plain": [
       "dict_keys(['categories', 'coordinates', 'display_phone', 'distance', 'id', 'image_url', 'is_closed', 'location', 'name', 'phone', 'price', 'rating', 'review_count', 'transactions', 'url'])"
      ]
     },
     "execution_count": 5,
     "metadata": {},
     "output_type": "execute_result"
    }
   ],
   "source": [
    "fork_fig.keys()"
   ]
  },
  {
   "cell_type": "code",
   "execution_count": 6,
   "metadata": {},
   "outputs": [
    {
     "data": {
      "text/plain": [
       "'Fork & Fig'"
      ]
     },
     "execution_count": 6,
     "metadata": {},
     "output_type": "execute_result"
    }
   ],
   "source": [
    "fork_fig['name']"
   ]
  },
  {
   "cell_type": "markdown",
   "metadata": {},
   "source": [
    "### Writing functions with conditionals"
   ]
  },
  {
   "cell_type": "markdown",
   "metadata": {},
   "source": [
    "Let's write a function called `better_restaurant` that provided two restaurants, returns the restaurant with the better rating.  The first argument is `restaurant` and the second argument is `alternative`.  "
   ]
  },
  {
   "cell_type": "code",
   "execution_count": 29,
   "metadata": {},
   "outputs": [
    {
     "name": "stdout",
     "output_type": "stream",
     "text": [
      "(inside the function): Your first choice is Fork & Fig found with rating 4.5\n",
      "(inside the function): Your second choice is Frontier Restaurant found with rating 4.0\n",
      "Fork & Fig has a lower rating\n",
      "None\n"
     ]
    }
   ],
   "source": [
    "#this is the long winded version taken from is_better function. \n",
    "\n",
    "def better2_restaurant(restaurant, alternative):\n",
    "    \n",
    "    restaurant_name = restaurant['name']\n",
    "    restaurant_rating = float(restaurant['rating'])\n",
    "    print(\"(inside the function): Your first choice is \" + str(restaurant_name) + \" found with rating \"+ str(restaurant_rating))\n",
    "    altrestaurant_name = alternative['name']\n",
    "    altrestaurant_rating = float(alternative['rating'])\n",
    "    print(\"(inside the function): Your second choice is \" + str(altrestaurant_name) + \" found with rating \"+ str(altrestaurant_rating))\n",
    "    \n",
    "    \n",
    "    if int(restaurant_rating) > int(altrestaurant_rating):\n",
    "        return print(restaurant_name + \" has a higher rating\")\n",
    "    return print(restaurant_name + \" has a lower rating\")\n",
    "\n",
    "print(better2_restaurant(fork_fig, frontier_restaurant))\n"
   ]
  },
  {
   "cell_type": "code",
   "execution_count": null,
   "metadata": {},
   "outputs": [],
   "source": []
  },
  {
   "cell_type": "code",
   "execution_count": 120,
   "metadata": {},
   "outputs": [
    {
     "name": "stdout",
     "output_type": "stream",
     "text": [
      "Your first choice is Paulette and Chips Sir found with rating 5.0\n",
      "Your second choice is Frontier Restaurant found with rating 4.0\n",
      "Output will be the dictionary, Paulette and Chips Sir, with the highest rating\n"
     ]
    },
    {
     "data": {
      "text/plain": [
       "{'categories': [{'alias': 'british', 'title': 'British'},\n",
       "  {'alias': 'diners', 'title': 'Diners'},\n",
       "  {'alias': 'tradamerican', 'title': 'British (Traditional)'}],\n",
       " 'coordinates': {'latitude': 35.0808088832532, 'longitude': -106.619402244687},\n",
       " 'display_phone': '(505) 266-0550',\n",
       " 'distance': 4033.6583235266075,\n",
       " 'id': 'paulette-restaurant-albuquerque-2',\n",
       " 'image_url': 'https://s3-media4.fl.yelpcdn.com/bphoto/M9L2z6-G0NobuDJ6YTh6VA/o.jpg',\n",
       " 'is_closed': True,\n",
       " 'location': {'address1': '2401 Central Ave SE',\n",
       "  'address2': '',\n",
       "  'address3': '',\n",
       "  'city': 'Albuquerque',\n",
       "  'country': 'US',\n",
       "  'display_address': ['2401 Central Ave SE', 'Albuquerque, NM 87106'],\n",
       "  'state': 'NM',\n",
       "  'zip_code': '87106'},\n",
       " 'name': 'Paulette and Chips Sir',\n",
       " 'phone': '+15052660551',\n",
       " 'price': '$$$',\n",
       " 'rating': 5.0,\n",
       " 'review_count': 2000,\n",
       " 'transactions': [],\n",
       " 'url': 'https://www.yelp.com/biz/frontier-restaurant-albuquerque-2?adjust_creative=SYc8R4Gowqru5h4SBKZXsQ&utm_campaign=yelp_api_v3&utm_medium=api_v3_business_search&utm_source=SYc8R4Gowqru5h4SBKZXsQ'}"
      ]
     },
     "execution_count": 120,
     "metadata": {},
     "output_type": "execute_result"
    }
   ],
   "source": [
    "\n",
    "\n",
    "def better_restaurant(restaurant, alternative):\n",
    "    #set up the dictionary called best\n",
    "    best={}\n",
    "    \n",
    "    #set up the variables representing elements of restaurant and alternative\n",
    "    #print statement is for internal function validation\n",
    "    restaurant_name = restaurant['name']\n",
    "    restaurant_rating = float(restaurant['rating'])\n",
    "    print(\"Your first choice is \" + str(restaurant_name) + \" found with rating \"+ str(restaurant_rating))\n",
    "    altrestaurant_name = alternative['name']\n",
    "    altrestaurant_rating = float(alternative['rating'])\n",
    "    print(\"Your second choice is \" + str(altrestaurant_name) + \" found with rating \"+ str(altrestaurant_rating))\n",
    "       \n",
    "    if restaurant_rating > altrestaurant_rating:\n",
    "        best = restaurant\n",
    "        print(\"Output will be the dictionary, \" + str(restaurant_name)+ \", with the highest rating\")\n",
    "    else:\n",
    "        best = alternative\n",
    "        print(\"Output will be the dictionary, \" + str(altrestaurant_name) + \", with the highest rating\")\n",
    "    return best\n",
    "    \n",
    "better_restaurant(paulette_restaurant, frontier_restaurant)\n",
    "\n"
   ]
  },
  {
   "cell_type": "code",
   "execution_count": 122,
   "metadata": {},
   "outputs": [
    {
     "name": "stdout",
     "output_type": "stream",
     "text": [
      "Your first choice is Frontier Restaurant found with rating 4.0\n",
      "Your second choice is Fork & Fig found with rating 4.5\n",
      "Output will be the dictionary, Fork & Fig, with the highest rating\n",
      "Fork & Fig\n",
      "Your first choice is Fork & Fig found with rating 4.5\n",
      "Your second choice is Frontier Restaurant found with rating 4.0\n",
      "Output will be the dictionary, Fork & Fig, with the highest rating\n",
      "Fork & Fig\n"
     ]
    }
   ],
   "source": [
    "print(better_restaurant(frontier_restaurant, fork_fig)['name']) # 'Fork & Fig'\n",
    "print(better_restaurant(fork_fig, frontier_restaurant)['name']) # 'Fork & Fig'"
   ]
  },
  {
   "cell_type": "markdown",
   "metadata": {},
   "source": [
    "Let's write a function called `cheaper_restaurant` that returns the restaurant with the lower price, that is the restaurant that has fewer `'$'` signs.  The first argument should be named `restaurant` and the second argument should be named `alternative`."
   ]
  },
  {
   "cell_type": "code",
   "execution_count": 139,
   "metadata": {},
   "outputs": [
    {
     "name": "stdout",
     "output_type": "stream",
     "text": [
      "Your first choice is Paulette and Chips Sir found 3$\n",
      "Your second choice is Frontier Restaurant found 1$\n",
      "Output will be the dictionary, Frontier Restaurant, with the cheapest price\n"
     ]
    },
    {
     "data": {
      "text/plain": [
       "{'categories': [{'alias': 'mexican', 'title': 'Mexican'},\n",
       "  {'alias': 'diners', 'title': 'Diners'},\n",
       "  {'alias': 'tradamerican', 'title': 'American (Traditional)'}],\n",
       " 'coordinates': {'latitude': 35.0808088832532, 'longitude': -106.619402244687},\n",
       " 'display_phone': '(505) 266-0550',\n",
       " 'distance': 4033.6583235266075,\n",
       " 'id': 'frontier-restaurant-albuquerque-2',\n",
       " 'image_url': 'https://s3-media4.fl.yelpcdn.com/bphoto/M9L2z6-G0NobuDJ6YTh6VA/o.jpg',\n",
       " 'is_closed': True,\n",
       " 'location': {'address1': '2400 Central Ave SE',\n",
       "  'address2': '',\n",
       "  'address3': '',\n",
       "  'city': 'Albuquerque',\n",
       "  'country': 'US',\n",
       "  'display_address': ['2400 Central Ave SE', 'Albuquerque, NM 87106'],\n",
       "  'state': 'NM',\n",
       "  'zip_code': '87106'},\n",
       " 'name': 'Frontier Restaurant',\n",
       " 'phone': '+15052660550',\n",
       " 'price': '$',\n",
       " 'rating': 4.0,\n",
       " 'review_count': 1369,\n",
       " 'transactions': [],\n",
       " 'url': 'https://www.yelp.com/biz/frontier-restaurant-albuquerque-2?adjust_creative=SYc8R4Gowqru5h4SBKZXsQ&utm_campaign=yelp_api_v3&utm_medium=api_v3_business_search&utm_source=SYc8R4Gowqru5h4SBKZXsQ'}"
      ]
     },
     "execution_count": 139,
     "metadata": {},
     "output_type": "execute_result"
    }
   ],
   "source": [
    "def cheaper_restaurant(restaurant, alternative):\n",
    "    #set up the dictionary called cheapest\n",
    "    cheapest={}\n",
    "    \n",
    "    #set up the variables representing elements of restaurant and alternative\n",
    "    #print statement is for internal function validation\n",
    "    restaurant_name = restaurant['name']\n",
    "    altrestaurant_name = alternative['name']\n",
    "   \n",
    "    restaurant_price = len(restaurant['price'])\n",
    "    altrestaurant_price = len(alternative['price'])\n",
    "    print(\"Your first choice is \" + str(restaurant_name) + \" found \" + str(restaurant_price) + \"$\")\n",
    "    print(\"Your second choice is \" + str(altrestaurant_name) + \" found \" + str(altrestaurant_price) + \"$\")\n",
    "       \n",
    "    if restaurant_price <= altrestaurant_price:\n",
    "        cheapest = restaurant\n",
    "        print(\"Output will be the dictionary, \" + str(restaurant_name)+ \", with the cheapest price\")\n",
    "    else:\n",
    "        cheapest = alternative\n",
    "        print(\"Output will be the dictionary, \" + str(altrestaurant_name) + \", with the cheapest price\")\n",
    "    return cheapest\n",
    "\n",
    "cheaper_restaurant(paulette_restaurant, frontier_restaurant)"
   ]
  },
  {
   "cell_type": "code",
   "execution_count": 140,
   "metadata": {},
   "outputs": [
    {
     "name": "stdout",
     "output_type": "stream",
     "text": [
      "Your first choice is Fork & Fig found 2$\n",
      "Your second choice is Frontier Restaurant found 1$\n",
      "Output will be the dictionary, Frontier Restaurant, with the cheapest price\n",
      "Frontier Restaurant\n",
      "Your first choice is Frontier Restaurant found 1$\n",
      "Your second choice is Fork & Fig found 2$\n",
      "Output will be the dictionary, Frontier Restaurant, with the cheapest price\n",
      "Frontier Restaurant\n"
     ]
    }
   ],
   "source": [
    "print(cheaper_restaurant(fork_fig, frontier_restaurant)['name']) # 'Frontier Restaurant'\n",
    "print(cheaper_restaurant(frontier_restaurant, fork_fig)['name']) # 'Frontier Restaurant'"
   ]
  },
  {
   "cell_type": "markdown",
   "metadata": {},
   "source": [
    "### Conditionals and Loops"
   ]
  },
  {
   "cell_type": "markdown",
   "metadata": {},
   "source": [
    "Let's continue our work of conditionals by seeing how they can be combined with loops. Let's write a function called `open_restaurants` that takes in a list of restaurants as an argument and returns a list of only the restaurants that are not closed."
   ]
  },
  {
   "cell_type": "code",
   "execution_count": 141,
   "metadata": {},
   "outputs": [
    {
     "data": {
      "text/plain": [
       "False"
      ]
     },
     "execution_count": 141,
     "metadata": {},
     "output_type": "execute_result"
    }
   ],
   "source": [
    "fork_fig['is_closed'] # False"
   ]
  },
  {
   "cell_type": "code",
   "execution_count": 142,
   "metadata": {},
   "outputs": [
    {
     "data": {
      "text/plain": [
       "True"
      ]
     },
     "execution_count": 142,
     "metadata": {},
     "output_type": "execute_result"
    }
   ],
   "source": [
    "frontier_restaurant['is_closed'] # True"
   ]
  },
  {
   "cell_type": "code",
   "execution_count": 143,
   "metadata": {},
   "outputs": [],
   "source": [
    "restaurants = [fork_fig, frontier_restaurant, paulette_restaurant]"
   ]
  },
  {
   "cell_type": "code",
   "execution_count": 172,
   "metadata": {},
   "outputs": [
    {
     "name": "stdout",
     "output_type": "stream",
     "text": [
      "Fork & Fig is open\n",
      "Paulette and Chips Sir is open\n"
     ]
    },
    {
     "data": {
      "text/plain": [
       "[{'categories': [{'alias': 'burgers', 'title': 'Burgers'},\n",
       "   {'alias': 'sandwiches', 'title': 'Sandwiches'},\n",
       "   {'alias': 'salad', 'title': 'Salad'}],\n",
       "  'coordinates': {'latitude': 35.10871, 'longitude': -106.56739},\n",
       "  'display_phone': '(505) 881-5293',\n",
       "  'distance': 3571.724649307866,\n",
       "  'id': 'fork-and-fig-albuquerque',\n",
       "  'image_url': 'https://s3-media1.fl.yelpcdn.com/bphoto/_-DpXKfS3jv6DyA47g6Fxg/o.jpg',\n",
       "  'is_closed': False,\n",
       "  'location': {'address1': '6904 Menaul Blvd NE',\n",
       "   'address2': 'Ste C',\n",
       "   'address3': '',\n",
       "   'city': 'Albuquerque',\n",
       "   'country': 'US',\n",
       "   'display_address': ['6904 Menaul Blvd NE',\n",
       "    'Ste C',\n",
       "    'Albuquerque, NM 87110'],\n",
       "   'state': 'NM',\n",
       "   'zip_code': '87110'},\n",
       "  'name': 'Fork & Fig',\n",
       "  'phone': '+15058815293',\n",
       "  'price': '$$',\n",
       "  'rating': 4.5,\n",
       "  'review_count': 604,\n",
       "  'transactions': [],\n",
       "  'url': 'https://www.yelp.com/biz/fork-and-fig-albuquerque?adjust_creative=SYc8R4Gowqru5h4SBKZXsQ&utm_campaign=yelp_api_v3&utm_medium=api_v3_business_search&utm_source=SYc8R4Gowqru5h4SBKZXsQ'},\n",
       " {'categories': [{'alias': 'british', 'title': 'British'},\n",
       "   {'alias': 'diners', 'title': 'Diners'},\n",
       "   {'alias': 'tradamerican', 'title': 'British (Traditional)'}],\n",
       "  'coordinates': {'latitude': 35.0808088832532,\n",
       "   'longitude': -106.619402244687},\n",
       "  'display_phone': '(505) 266-0550',\n",
       "  'distance': 4033.6583235266075,\n",
       "  'id': 'paulette-restaurant-albuquerque-2',\n",
       "  'image_url': 'https://s3-media4.fl.yelpcdn.com/bphoto/M9L2z6-G0NobuDJ6YTh6VA/o.jpg',\n",
       "  'is_closed': False,\n",
       "  'location': {'address1': '2401 Central Ave SE',\n",
       "   'address2': '',\n",
       "   'address3': '',\n",
       "   'city': 'Albuquerque',\n",
       "   'country': 'US',\n",
       "   'display_address': ['2401 Central Ave SE', 'Albuquerque, NM 87106'],\n",
       "   'state': 'NM',\n",
       "   'zip_code': '87106'},\n",
       "  'name': 'Paulette and Chips Sir',\n",
       "  'phone': '+15052660551',\n",
       "  'price': '$$$',\n",
       "  'rating': 5.0,\n",
       "  'review_count': 2000,\n",
       "  'transactions': [],\n",
       "  'url': 'https://www.yelp.com/biz/frontier-restaurant-albuquerque-2?adjust_creative=SYc8R4Gowqru5h4SBKZXsQ&utm_campaign=yelp_api_v3&utm_medium=api_v3_business_search&utm_source=SYc8R4Gowqru5h4SBKZXsQ'}]"
      ]
     },
     "execution_count": 172,
     "metadata": {},
     "output_type": "execute_result"
    }
   ],
   "source": [
    "def open_restaurants(restaurants):\n",
    "    open = []\n",
    "    for restaurant in restaurants:\n",
    "        if restaurant['is_closed'] == False: \n",
    "            open.append(restaurant)\n",
    "            print(restaurant['name'] + \" is open\")\n",
    "    return open\n",
    "\n",
    "restaurants = [fork_fig, frontier_restaurant, paulette_restaurant]\n",
    "open_restaurants(restaurants)"
   ]
  },
  {
   "cell_type": "code",
   "execution_count": 176,
   "metadata": {},
   "outputs": [
    {
     "data": {
      "text/plain": [
       "builtin_function_or_method"
      ]
     },
     "execution_count": 176,
     "metadata": {},
     "output_type": "execute_result"
    }
   ],
   "source": [
    "type(open)"
   ]
  },
  {
   "cell_type": "code",
   "execution_count": 173,
   "metadata": {},
   "outputs": [
    {
     "name": "stdout",
     "output_type": "stream",
     "text": [
      "Fork & Fig is open\n",
      "Paulette and Chips Sir is open\n"
     ]
    },
    {
     "data": {
      "text/plain": [
       "2"
      ]
     },
     "execution_count": 173,
     "metadata": {},
     "output_type": "execute_result"
    }
   ],
   "source": [
    "len(open_restaurants(restaurants)) # 2 as I have added another test"
   ]
  },
  {
   "cell_type": "code",
   "execution_count": 175,
   "metadata": {},
   "outputs": [
    {
     "name": "stdout",
     "output_type": "stream",
     "text": [
      "Fork & Fig is open\n",
      "Paulette and Chips Sir is open\n"
     ]
    },
    {
     "data": {
      "text/plain": [
       "'Paulette and Chips Sir'"
      ]
     },
     "execution_count": 175,
     "metadata": {},
     "output_type": "execute_result"
    }
   ],
   "source": [
    "open_restaurants(restaurants)[1]['name'] # 'Paulette and Chips Sir'\n",
    "#open_restaurants(restaurants)[0] # this would return 'Fork & Fig' if open was type list"
   ]
  },
  {
   "cell_type": "markdown",
   "metadata": {},
   "source": [
    "### Summary"
   ]
  },
  {
   "cell_type": "markdown",
   "metadata": {},
   "source": [
    "Great! In this lab we saw how to use functions with multiple arguments and conditionals to return the restaurant we want based on the questions we are trying to answer. We also saw how to use conditionals to select only certain elements of an array based on a condition we want our elements to meet."
   ]
  }
 ],
 "metadata": {
  "kernelspec": {
   "display_name": "Python 3",
   "language": "python",
   "name": "python3"
  },
  "language_info": {
   "codemirror_mode": {
    "name": "ipython",
    "version": 3
   },
   "file_extension": ".py",
   "mimetype": "text/x-python",
   "name": "python",
   "nbconvert_exporter": "python",
   "pygments_lexer": "ipython3",
   "version": "3.6.9"
  }
 },
 "nbformat": 4,
 "nbformat_minor": 2
}
